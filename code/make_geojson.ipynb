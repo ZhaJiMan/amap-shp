{
 "cells": [
  {
   "cell_type": "code",
   "execution_count": 1,
   "metadata": {},
   "outputs": [],
   "source": [
    "from pathlib import Path\n",
    "\n",
    "import numpy as np\n",
    "import shapely\n",
    "import utils\n",
    "from loguru import logger"
   ]
  },
  {
   "cell_type": "code",
   "execution_count": 2,
   "metadata": {},
   "outputs": [],
   "source": [
    "data_dirpath = Path(\"../data\")\n",
    "\n",
    "district_json_filepath = data_dirpath / \"cn_district.json\"\n",
    "district_csv_filepath = data_dirpath / \"cn_district.csv\"\n",
    "\n",
    "city_json_filepath = data_dirpath / \"cn_city.json\"\n",
    "city_csv_filepath = data_dirpath / \"cn_city.csv\"\n",
    "\n",
    "province_json_filepath = data_dirpath / \"cn_province.json\"\n",
    "province_csv_filepath = data_dirpath / \"cn_province.csv\"\n",
    "\n",
    "border_json_filepath = data_dirpath / \"cn_border.json\""
   ]
  },
  {
   "cell_type": "code",
   "execution_count": 3,
   "metadata": {},
   "outputs": [],
   "source": [
    "district_data = utils.load_json(district_json_filepath)\n",
    "district_df = utils.geojson_to_df(district_data)\n",
    "district_df.to_csv(district_csv_filepath, index=False)"
   ]
  },
  {
   "cell_type": "code",
   "execution_count": null,
   "metadata": {},
   "outputs": [],
   "source": [
    "features = []\n",
    "district_polygons = np.array(utils.geojson_to_geometries(district_data))\n",
    "for _, group in district_df.groupby(district_df[\"city_adcode\"]):\n",
    "    city_polygon = shapely.union_all(district_polygons[group.index])\n",
    "    city_polygon = utils.orient_polygon(city_polygon)\n",
    "    lon, lat = utils.get_geometry_center(city_polygon)\n",
    "    geometry_dict = utils.geometry_to_geometry_dict(city_polygon)\n",
    "\n",
    "    district_properties = group.iloc[0].to_dict()\n",
    "    city_properties = {\n",
    "        \"province_name\": district_properties[\"province_name\"],\n",
    "        \"province_adcode\": district_properties[\"province_adcode\"],\n",
    "        \"city_name\": district_properties[\"city_name\"],\n",
    "        \"city_adcode\": district_properties[\"city_adcode\"],\n",
    "        \"short_name\": utils.shorten_city_name(district_properties[\"city_name\"]),\n",
    "        \"lon\": round(lon, 6),\n",
    "        \"lat\": round(lat, 6),\n",
    "    }\n",
    "\n",
    "    feature = utils.make_feature(geometry_dict, city_properties)\n",
    "    features.append(feature)\n",
    "    logger.info(city_properties)\n",
    "\n",
    "city_data = utils.make_geojson(features)\n",
    "utils.dump_json(city_json_filepath, city_data)\n",
    "\n",
    "city_df = utils.geojson_to_df(city_data)\n",
    "city_df.to_csv(city_csv_filepath, index=False)"
   ]
  },
  {
   "cell_type": "code",
   "execution_count": null,
   "metadata": {},
   "outputs": [],
   "source": [
    "features = []\n",
    "city_polygons = np.array(utils.geojson_to_geometries(city_data))\n",
    "for _, group in city_df.groupby(city_df[\"province_adcode\"]):\n",
    "    province_polygon = shapely.union_all(city_polygons[group.index])\n",
    "    province_polygon = utils.orient_polygon(province_polygon)\n",
    "    lon, lat = utils.get_geometry_center(province_polygon)\n",
    "    geometry_dict = utils.geometry_to_geometry_dict(province_polygon)\n",
    "\n",
    "    city_properties = group.iloc[0].to_dict()\n",
    "    province_properties = {\n",
    "        \"province_name\": city_properties[\"province_name\"],\n",
    "        \"province_adcode\": city_properties[\"province_adcode\"],\n",
    "        \"short_name\": utils.shorten_province_name(city_properties[\"province_name\"]),\n",
    "        \"lon\": round(lon, 6),\n",
    "        \"lat\": round(lat, 6),\n",
    "    }\n",
    "\n",
    "    feature = utils.make_feature(geometry_dict, province_properties)\n",
    "    features.append(feature)\n",
    "    logger.info(province_properties)\n",
    "\n",
    "province_data = utils.make_geojson(features)\n",
    "utils.dump_json(province_json_filepath, province_data)\n",
    "\n",
    "province_df = utils.geojson_to_df(province_data)\n",
    "province_df.to_csv(province_csv_filepath, index=False)"
   ]
  },
  {
   "cell_type": "code",
   "execution_count": 6,
   "metadata": {},
   "outputs": [],
   "source": [
    "province_polygons = utils.geojson_to_geometries(province_data)\n",
    "border_polygon = shapely.union_all(province_polygons)\n",
    "border_polygon = utils.orient_polygon(border_polygon)\n",
    "geometry_dict = utils.geometry_to_geometry_dict(border_polygon)\n",
    "properties = {\"country_name\": \"中华人民共和国\", \"country_adcode\": 100000}\n",
    "feature = utils.make_feature(geometry_dict, properties)\n",
    "border_data = utils.make_geojson([feature])\n",
    "utils.dump_json(border_json_filepath, border_data)"
   ]
  }
 ],
 "metadata": {
  "kernelspec": {
   "display_name": "base",
   "language": "python",
   "name": "python3"
  },
  "language_info": {
   "codemirror_mode": {
    "name": "ipython",
    "version": 3
   },
   "file_extension": ".py",
   "mimetype": "text/x-python",
   "name": "python",
   "nbconvert_exporter": "python",
   "pygments_lexer": "ipython3",
   "version": "3.11.9"
  }
 },
 "nbformat": 4,
 "nbformat_minor": 2
}
