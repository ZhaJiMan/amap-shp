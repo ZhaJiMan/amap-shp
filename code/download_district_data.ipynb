{
 "cells": [
  {
   "cell_type": "code",
   "execution_count": 1,
   "metadata": {},
   "outputs": [],
   "source": [
    "import copy\n",
    "import time\n",
    "from pathlib import Path\n",
    "\n",
    "import utils\n",
    "from loguru import logger\n",
    "from retrying import retry"
   ]
  },
  {
   "cell_type": "code",
   "execution_count": 2,
   "metadata": {},
   "outputs": [],
   "source": [
    "data_dirpath = Path(\"../data\")\n",
    "data_dirpath.mkdir(parents=True, exist_ok=True)\n",
    "\n",
    "district_filepath = data_dirpath / \"cn_district.json\"\n",
    "nine_line_filepath = data_dirpath / \"nine_line.json\""
   ]
  },
  {
   "cell_type": "markdown",
   "metadata": {},
   "source": [
    "高德 web API 查询行政区域：[https://lbs.amap.com/api/webservice/guide/api/district](https://lbs.amap.com/api/webservice/guide/api/district)\n",
    "\n",
    "- 按入门指南注册并申请密钥（key）\n",
    "- 拼接 HTTP 请求的 URL\n",
    "- 解析返回的数据，转换成 GeoJSON 格式并保存\n",
    "- 下载区县数据，后续用来合成省市数据"
   ]
  },
  {
   "cell_type": "code",
   "execution_count": 3,
   "metadata": {},
   "outputs": [],
   "source": [
    "amap_key = \"\""
   ]
  },
  {
   "cell_type": "code",
   "execution_count": 4,
   "metadata": {},
   "outputs": [],
   "source": [
    "@retry(wait_fixed=1000, stop_max_attempt_number=5)\n",
    "def get_amap_json(url: str) -> dict:\n",
    "    \"\"\"请求高德 API，失败后重试。\"\"\"\n",
    "    data = utils.get_api_json(url)\n",
    "    if data[\"status\"] == \"0\":\n",
    "        raise RuntimeError\n",
    "\n",
    "    return data"
   ]
  },
  {
   "cell_type": "markdown",
   "metadata": {},
   "source": [
    "收集所有区县的元数据。没有区县的省市用它自己代替区县。"
   ]
  },
  {
   "cell_type": "code",
   "execution_count": 5,
   "metadata": {},
   "outputs": [],
   "source": [
    "url = f\"https://restapi.amap.com/v3/config/district?key={amap_key}&subdistrict=3\"\n",
    "data = get_amap_json(url)\n",
    "\n",
    "properties_list = []\n",
    "\n",
    "# 遍历省\n",
    "for districts1 in data[\"districts\"][0][\"districts\"]:\n",
    "    # 台湾只有省级数据\n",
    "    if not districts1[\"districts\"]:\n",
    "        properties = {\n",
    "            \"province_name\": districts1[\"name\"],\n",
    "            \"province_adcode\": districts1[\"adcode\"],\n",
    "            \"city_name\": districts1[\"name\"],\n",
    "            \"city_adcode\": districts1[\"adcode\"],\n",
    "            \"district_name\": districts1[\"name\"],\n",
    "            \"district_adcode\": districts1[\"adcode\"],\n",
    "        }\n",
    "        properties_list.append(properties)\n",
    "        continue\n",
    "\n",
    "    # 遍历市\n",
    "    for districts2 in districts1[\"districts\"]:\n",
    "        # 香港和澳门下一级就是区\n",
    "        if districts2[\"level\"] == \"district\":\n",
    "            properties = {\n",
    "                \"province_name\": districts1[\"name\"],\n",
    "                \"province_adcode\": districts1[\"adcode\"],\n",
    "                \"city_name\": districts1[\"name\"],\n",
    "                \"city_adcode\": districts1[\"adcode\"],\n",
    "                \"district_name\": districts2[\"name\"],\n",
    "                \"district_adcode\": districts2[\"adcode\"],\n",
    "            }\n",
    "            properties_list.append(properties)\n",
    "            continue\n",
    "\n",
    "        # 遍历区县\n",
    "        for districts3 in districts2[\"districts\"]:\n",
    "            # 部分城市和省直辖县下一级就是街道\n",
    "            if districts3[\"level\"] == \"street\":\n",
    "                properties = {\n",
    "                    \"province_name\": districts1[\"name\"],\n",
    "                    \"province_adcode\": districts1[\"adcode\"],\n",
    "                    \"city_name\": districts2[\"name\"],\n",
    "                    \"city_adcode\": districts2[\"adcode\"],\n",
    "                    \"district_name\": districts2[\"name\"],\n",
    "                    \"district_adcode\": districts2[\"adcode\"],\n",
    "                }\n",
    "                properties_list.append(properties)\n",
    "                break\n",
    "\n",
    "            properties = {\n",
    "                \"province_name\": districts1[\"name\"],\n",
    "                \"province_adcode\": districts1[\"adcode\"],\n",
    "                \"city_name\": districts2[\"name\"],\n",
    "                \"city_adcode\": districts2[\"adcode\"],\n",
    "                \"district_name\": districts3[\"name\"],\n",
    "                \"district_adcode\": districts3[\"adcode\"],\n",
    "            }\n",
    "            properties_list.append(properties)\n",
    "\n",
    "for properties in properties_list:\n",
    "    district_name = properties[\"district_name\"]\n",
    "    if district_name == \"澳门大学横琴校区(由澳门实施管辖)\":\n",
    "        district_name = properties[\"district_name\"] = \"澳门大学横琴校区\"\n",
    "    properties[\"short_name\"] = utils.shorten_district_name(district_name)\n",
    "    for key, value in properties.items():\n",
    "        if \"adcode\" in key:\n",
    "            properties[key] = int(value)\n",
    "\n",
    "properties_list.sort(key=lambda x: x[\"district_adcode\"])"
   ]
  },
  {
   "cell_type": "markdown",
   "metadata": {},
   "source": [
    "高德 API 返回的 `polyline` 字符串表示多边形坐标序列，经度和纬度用 `,` 分隔，点与点之间用 `;` 分隔，`MultiPolygon` 类型的多个多边形用 `|` 分隔坐标序列。问题是：如何明确指定多边形的洞？\n",
    "\n",
    "测试后发现，`polyline` 不是用单独的环表示洞，而是将带洞的多边形切成两个独立的多边形，当这两个多边形拼在一起时就会凑出一个洞。这里直接用 `shapely.union_all` 合并一条 `polyline` 里含有的所有多边形，就自然能产生洞。具体实现见 `utils.polyline_to_polygon` 函数。\n",
    "\n",
    "将 `polyline` 转换成 `shapely` 的多边形对后，外环坐标沿顺时针方向（CW）排列，内环坐标沿逆时针方向（CCW）排列，这刚好和 GeoJSON 推荐的方向相反。为此在 `utils.polygon_to_geometry` 函数中用 shapely 自带的调整方向的函数进行调节。\n",
    "\n",
    "高德 API 的数据应该是 GCJ-02 坐标系的，这里采用 PRCoords 库转换成 WGS84 坐标系。"
   ]
  },
  {
   "cell_type": "code",
   "execution_count": null,
   "metadata": {},
   "outputs": [],
   "source": [
    "features = []\n",
    "for properties in properties_list:\n",
    "    url = f\"https://restapi.amap.com/v3/config/district?key={amap_key}&keywords={properties['district_adcode']}&subdistrict=0&extensions=all\"\n",
    "    data = get_amap_json(url)\n",
    "    polyline = data[\"districts\"][0][\"polyline\"]\n",
    "    polygon = utils.polyline_to_polygon(polyline)\n",
    "    geometry_dict = utils.geometry_to_geometry_dict(polygon)\n",
    "    geometry_dict = utils.gcj_geometry_dict_to_wgs(\n",
    "        geometry_dict, decimals=6, check_validity=True\n",
    "    )\n",
    "\n",
    "    properties = copy.deepcopy(properties)\n",
    "    lon, lat = utils.get_geometry_center(polygon)\n",
    "    properties[\"lon\"] = round(lon, 6)\n",
    "    properties[\"lat\"] = round(lat, 6)\n",
    "\n",
    "    feature = utils.make_feature(geometry_dict, properties)\n",
    "    features.append(feature)\n",
    "    logger.info(properties)\n",
    "    time.sleep(0.25)\n",
    "\n",
    "district_data = utils.make_geojson(features)\n",
    "utils.dump_json(district_filepath, district_data)\n",
    "logger.info(\"区县数据下载完成\")"
   ]
  },
  {
   "cell_type": "markdown",
   "metadata": {},
   "source": [
    "https://datav.aliyun.com/portal/school/atlas/area_selector\n",
    "\n",
    "阿里云的全国 GeoJSON 数据里含有多边形类型的九段线数据，以此制作九段线的 GeoJSON 文件。"
   ]
  },
  {
   "cell_type": "code",
   "execution_count": null,
   "metadata": {},
   "outputs": [],
   "source": [
    "url = \"https://geo.datav.aliyun.com/areas_v3/bound/100000_full.json\"\n",
    "data = utils.get_api_json(url)\n",
    "geometry_dict = data[\"features\"][-1][\"geometry\"]\n",
    "geometry_dict = utils.gcj_geometry_dict_to_wgs(\n",
    "    geometry_dict, decimals=6, check_validity=True\n",
    ")\n",
    "properties = {\"name\": \"九段线\"}\n",
    "feature = utils.make_feature(geometry_dict, properties)\n",
    "nine_line_data = utils.make_geojson([feature])\n",
    "utils.dump_json(nine_line_filepath, nine_line_data)\n",
    "logger.info(\"九段线数据下载完成\")"
   ]
  }
 ],
 "metadata": {
  "kernelspec": {
   "display_name": "base",
   "language": "python",
   "name": "python3"
  },
  "language_info": {
   "codemirror_mode": {
    "name": "ipython",
    "version": 3
   },
   "file_extension": ".py",
   "mimetype": "text/x-python",
   "name": "python",
   "nbconvert_exporter": "python",
   "pygments_lexer": "ipython3",
   "version": "3.11.9"
  }
 },
 "nbformat": 4,
 "nbformat_minor": 2
}
