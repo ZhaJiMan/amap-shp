{
 "cells": [
  {
   "cell_type": "code",
   "execution_count": 1,
   "metadata": {},
   "outputs": [],
   "source": [
    "import json\n",
    "import time\n",
    "from pathlib import Path\n",
    "\n",
    "import requests\n",
    "import shapefile\n",
    "\n",
    "from amap import (\n",
    "    polygon_center,\n",
    "    shorten_dt_name,\n",
    "    polyline_to_polygon,\n",
    "    polygon_to_polys,\n",
    "    gcj_to_wgs,\n",
    "    make_prj_file,\n",
    ")"
   ]
  },
  {
   "cell_type": "code",
   "execution_count": 2,
   "metadata": {},
   "outputs": [],
   "source": [
    "data_dirpath = Path('../data')\n",
    "if not data_dirpath.exists():\n",
    "    data_dirpath.mkdir()\n",
    "\n",
    "temp_filepath = data_dirpath / 'temp.shp'\n",
    "dt_shp_filepath = data_dirpath / 'cn_district.shp'\n",
    "dt_prj_filepath = data_dirpath / 'cn_district.prj'\n",
    "nl_shp_filepath = data_dirpath / 'nine_line.shp'\n",
    "nl_prj_filepath = data_dirpath / 'nine_line.prj'"
   ]
  },
  {
   "cell_type": "markdown",
   "metadata": {},
   "source": [
    "高德 web API 查询行政区域：[https://lbs.amap.com/api/webservice/guide/api/district](https://lbs.amap.com/api/webservice/guide/api/district)\n",
    "\n",
    "按入门指南注册并申请密钥（key），拼接 HTTP 请求的 URL，接收并解析返回的数据。"
   ]
  },
  {
   "cell_type": "code",
   "execution_count": null,
   "metadata": {},
   "outputs": [],
   "source": [
    "key = '1145141919810'"
   ]
  },
  {
   "cell_type": "markdown",
   "metadata": {},
   "source": [
    "收集 `level=district` 的记录。没有区县的省市用它自己代替。\n",
    "\n",
    "DBF 文件字段名称长度限制为 10 个字符。"
   ]
  },
  {
   "cell_type": "code",
   "execution_count": null,
   "metadata": {},
   "outputs": [],
   "source": [
    "url = f'https://restapi.amap.com/v3/config/district?key={key}&subdistrict=3'\n",
    "response = requests.get(url)\n",
    "content = json.loads(response.content.decode())"
   ]
  },
  {
   "cell_type": "code",
   "execution_count": null,
   "metadata": {},
   "outputs": [],
   "source": [
    "records = []\n",
    "for district1 in content['districts'][0]['districts']:\n",
    "    # 台湾只有省级数据\n",
    "    if not district1['districts']:\n",
    "        record = {\n",
    "            'pr_name': district1['name'],\n",
    "            'pr_adcode': district1['adcode'],\n",
    "            'ct_name': district1['name'],\n",
    "            'ct_adcode': district1['adcode'],\n",
    "            'dt_name': district1['name'],\n",
    "            'dt_adcode': district1['adcode'],\n",
    "        }\n",
    "        records.append(record)\n",
    "        continue\n",
    "\n",
    "    for district2 in district1['districts']:\n",
    "        # 香港和澳门下一级就是区\n",
    "        if district2['level'] == 'district':\n",
    "            record = {\n",
    "                'pr_name': district1['name'],\n",
    "                'pr_adcode': district1['adcode'],\n",
    "                'ct_name': district1['name'],\n",
    "                'ct_adcode': district1['adcode'],\n",
    "                'dt_name': district2['name'],\n",
    "                'dt_adcode': district2['adcode'],\n",
    "            }\n",
    "            records.append(record)\n",
    "            continue\n",
    "\n",
    "        for district3 in district2['districts']:\n",
    "            # 省直管市等，下一级是街道\n",
    "            if district3['level'] == 'street':\n",
    "                record = {\n",
    "                    'pr_name': district1['name'],\n",
    "                    'pr_adcode': district1['adcode'],\n",
    "                    'ct_name': district2['name'],\n",
    "                    'ct_adcode': district2['adcode'],\n",
    "                    'dt_name': district2['name'],\n",
    "                    'dt_adcode': district2['adcode'],\n",
    "                }\n",
    "                records.append(record)\n",
    "                break\n",
    "\n",
    "            # 普通省和直辖市的区县\n",
    "            record = {\n",
    "                'pr_name': district1['name'],\n",
    "                'pr_adcode': district1['adcode'],\n",
    "                'ct_name': district2['name'],\n",
    "                'ct_adcode': district2['adcode'],\n",
    "                'dt_name': district3['name'],\n",
    "                'dt_adcode': district3['adcode'],\n",
    "            }\n",
    "            records.append(record)\n",
    "\n",
    "# 按 adcode 排序\n",
    "records.sort(key=lambda x: x['dt_adcode'])\n",
    "len(records)"
   ]
  },
  {
   "cell_type": "markdown",
   "metadata": {},
   "source": [
    "处理特殊名称，添加简称。"
   ]
  },
  {
   "cell_type": "code",
   "execution_count": null,
   "metadata": {},
   "outputs": [],
   "source": [
    "for record in records:\n",
    "    if record['dt_name'] == '澳门大学横琴校区(由澳门实施管辖)':\n",
    "        record['dt_name'] = '澳门大学横琴校区'\n",
    "    record['short_name'] = shorten_dt_name(record['dt_name'])"
   ]
  },
  {
   "cell_type": "markdown",
   "metadata": {},
   "source": [
    "`polyline` 用字符串表示多边形坐标序列。不同多边形用 `|` 分隔，不同点用 `;` 分割，xy 用 `,` 分隔。多边形环的绕行方向都是顺时针，那么问题来了，怎么判断多边形的洞，怎么判断 `MultiPolygon` 呢？\n",
    "\n",
    "测试后大致发现，`polyline` 里不是用单独的多边形表示洞，而是将带洞的多边形切成两个独立的多边形，当这两个多边形拼在一起时，就会凑出一个洞。因此这里的策略是直接用 `unary_union` 合并 `polyline` 里的所有多边形。\n",
    "\n",
    "关于多边形绕行方向：\n",
    "\n",
    "- shapely 里构造 `Polygon` 时方向无所谓，因为已经通过 `shell` 和 `holes` 参数明确指定了外环和内环。但经过运算后会变成外环顺时针内环逆时针。\n",
    "- Shapefile 要求外环顺时针，内环逆时针；GeoJSON 要求外环逆时针，内环顺时针，不过并不强制。\n",
    "- PyShp 的 `__geo_interface__` 接口能将 shapefile 转为 GeoJSON，但除了 2.2.0 版本外不会改变底层数据的绕行方向。\n",
    "- `sgeom.shape` 会用到 `__geo_interface__` 接口。\n",
    "- `mpath.Path` 要求内外环方向不一致即可。\n",
    "\n",
    "总结：用 shapely 和 PyShp 处理全为顺时针的 `polyline` 数据，最后能得到外环顺时针，内环逆时针的 shapefile 文件。后续用于 Matplotlib 时能区分出洞。"
   ]
  },
  {
   "cell_type": "code",
   "execution_count": null,
   "metadata": {},
   "outputs": [],
   "source": [
    "with shapefile.Writer(temp_filepath, shapeType=5) as writer:\n",
    "    writer.fields = [\n",
    "        ['pr_name', 'C', 80, 0],\n",
    "        ['pr_adcode', 'N', 6, 0],\n",
    "        ['ct_name', 'C', 80, 0],\n",
    "        ['ct_adcode', 'N', 6, 0],\n",
    "        ['dt_name', 'C', 80, 0],\n",
    "        ['dt_adcode', 'N', 6, 0],\n",
    "        ['short_name', 'C', 80, 0],\n",
    "        ['lon', 'N', 7, 3],\n",
    "        ['lat', 'N', 7, 3],\n",
    "    ]\n",
    "    for record in records:\n",
    "        adcode = record['dt_adcode']\n",
    "        url = f'https://restapi.amap.com/v3/config/district?key={key}&keywords={adcode}&subdistrict=0&extensions=all'\n",
    "        while True:\n",
    "            try:\n",
    "                response = requests.get(url)\n",
    "                break\n",
    "            except Exception as e:\n",
    "                print(repr(e))\n",
    "                time.sleep(3)\n",
    "\n",
    "        content = json.loads(response.content.decode())\n",
    "        polyline = content['districts'][0]['polyline']\n",
    "        polygon = polyline_to_polygon(polyline)\n",
    "        polys = polygon_to_polys(polygon)\n",
    "\n",
    "        record = record.copy()\n",
    "        record['lon'], record['lat'] = polygon_center(polygon)\n",
    "\n",
    "        writer.poly(polys)\n",
    "        writer.record(**record)\n",
    "        print(record)\n",
    "        time.sleep(0.2)\n",
    "\n",
    "# 火星坐标系变换为 WGS84 坐标系\n",
    "gcj_to_wgs(temp_filepath, dt_shp_filepath)\n",
    "make_prj_file(dt_prj_filepath)"
   ]
  },
  {
   "cell_type": "markdown",
   "metadata": {},
   "source": [
    "[https://datav.aliyun.com/portal/school/atlas/area_selector](https://datav.aliyun.com/portal/school/atlas/area_selector)\n",
    "\n",
    "全国的 GeoJSON 数据里含多边形表示的九段线，以此制作九段线的 shapefile 文件。注意 `writer.shape` 会自动将 GeoJSON 里逆时针的外环改为顺时针。"
   ]
  },
  {
   "cell_type": "code",
   "execution_count": 3,
   "metadata": {},
   "outputs": [],
   "source": [
    "with shapefile.Writer(str(temp_filepath), shapeType=5) as writer:\n",
    "    url = 'https://geo.datav.aliyun.com/areas_v3/bound/100000_full.json'\n",
    "    response = requests.get(url)\n",
    "    content = json.loads(response.content.decode())\n",
    "    geometry = content['features'][-1]['geometry']\n",
    "    writer.fields = [\n",
    "        ['cn_adcode', 'N', 6, 0],\n",
    "        ['cn_name', 'C', 80, 0],\n",
    "    ]\n",
    "    writer.record(cn_adcode=100000, cn_name='九段线')\n",
    "    writer.shape(geometry)\n",
    "\n",
    "gcj_to_wgs(temp_filepath, nl_shp_filepath)\n",
    "make_prj_file(nl_prj_filepath)"
   ]
  },
  {
   "cell_type": "markdown",
   "metadata": {},
   "source": [
    "清理临时文件。"
   ]
  },
  {
   "cell_type": "code",
   "execution_count": 4,
   "metadata": {},
   "outputs": [],
   "source": [
    "for filepath in data_dirpath.iterdir():\n",
    "    if filepath.stem == 'temp':\n",
    "        filepath.unlink()"
   ]
  }
 ],
 "metadata": {
  "kernelspec": {
   "display_name": "base",
   "language": "python",
   "name": "python3"
  },
  "language_info": {
   "codemirror_mode": {
    "name": "ipython",
    "version": 3
   },
   "file_extension": ".py",
   "mimetype": "text/x-python",
   "name": "python",
   "nbconvert_exporter": "python",
   "pygments_lexer": "ipython3",
   "version": "3.11.5"
  }
 },
 "nbformat": 4,
 "nbformat_minor": 2
}
