{
 "cells": [
  {
   "cell_type": "code",
   "execution_count": null,
   "metadata": {},
   "outputs": [],
   "source": [
    "from pathlib import Path\n",
    "\n",
    "import shapefile\n",
    "import shapely.geometry as sgeom\n",
    "from shapely.ops import unary_union\n",
    "\n",
    "from amap import (\n",
    "    polygon_center,\n",
    "    shp_to_df,\n",
    "    polygon_to_polys,\n",
    "    shorten_ct_name,\n",
    "    shorten_pr_name,\n",
    "    make_prj_file,\n",
    ")"
   ]
  },
  {
   "cell_type": "code",
   "execution_count": null,
   "metadata": {},
   "outputs": [],
   "source": [
    "data_dirpath = Path('../data')\n",
    "\n",
    "dt_shp_filepath = data_dirpath / 'cn_district.shp'\n",
    "dt_csv_filepath = data_dirpath / 'cn_district.csv'\n",
    "\n",
    "ct_shp_filepath = data_dirpath / 'cn_city.shp'\n",
    "ct_prj_filepath = data_dirpath / 'cn_city.prj'\n",
    "ct_csv_filepath = data_dirpath / 'cn_city.csv'\n",
    "\n",
    "pr_shp_filepath = data_dirpath / 'cn_province.shp'\n",
    "pr_prj_filepath = data_dirpath / 'cn_province.prj'\n",
    "pr_csv_filepath = data_dirpath / 'cn_province.csv'\n",
    "\n",
    "bd_shp_filepath = data_dirpath / 'cn_border.shp'\n",
    "bd_prj_filepath = data_dirpath / 'cn_border.prj'"
   ]
  },
  {
   "cell_type": "code",
   "execution_count": null,
   "metadata": {},
   "outputs": [],
   "source": [
    "dt_df = shp_to_df(dt_shp_filepath)\n",
    "dt_df.to_csv(dt_csv_filepath, index=False)\n",
    "dt_df.head(10)"
   ]
  },
  {
   "cell_type": "markdown",
   "metadata": {},
   "source": [
    "区县多边形合成市级多边形，制作配套的属性表。"
   ]
  },
  {
   "cell_type": "code",
   "execution_count": null,
   "metadata": {},
   "outputs": [],
   "source": [
    "with shapefile.Reader(dt_shp_filepath) as reader:\n",
    "    shapeRecs = reader.shapeRecords()\n",
    "\n",
    "with shapefile.Writer(ct_shp_filepath, shapeType=5) as writer:\n",
    "    writer.fields = [\n",
    "        ['pr_name', 'C', 80, 0],\n",
    "        ['pr_adcode', 'N', 6, 0],\n",
    "        ['ct_name', 'C', 80, 0],\n",
    "        ['ct_adcode', 'N', 6, 0],\n",
    "        ['short_name', 'C', 80, 0],\n",
    "        ['lon', 'N', 7, 3],\n",
    "        ['lat', 'N', 7, 3],\n",
    "    ]\n",
    "    for record in (\n",
    "        dt_df.iloc[:, :4]\n",
    "        .drop_duplicates('ct_name')\n",
    "        .reset_index(drop=True)\n",
    "        .to_dict(orient='records')\n",
    "    ):\n",
    "        polygons = []\n",
    "        for shapeRec in shapeRecs:\n",
    "            if shapeRec.record.ct_name == record['ct_name']:\n",
    "                polygons.append(sgeom.shape(shapeRec.shape))\n",
    "        polygon = unary_union(polygons)\n",
    "        polys = polygon_to_polys(polygon)\n",
    "\n",
    "        record['short_name'] = shorten_ct_name(record['ct_name'])\n",
    "        record['lon'], record['lat'] = polygon_center(polygon)\n",
    "\n",
    "        writer.record(**record)\n",
    "        writer.poly(polys)\n",
    "\n",
    "make_prj_file(ct_prj_filepath)\n",
    "ct_df = shp_to_df(ct_shp_filepath)\n",
    "ct_df.to_csv(ct_csv_filepath, index=False)\n",
    "ct_df.head(10)"
   ]
  },
  {
   "cell_type": "markdown",
   "metadata": {},
   "source": [
    "市级多边形合成省级多边形，制作配套的属性表。"
   ]
  },
  {
   "cell_type": "code",
   "execution_count": null,
   "metadata": {},
   "outputs": [],
   "source": [
    "with shapefile.Reader(ct_shp_filepath) as reader:\n",
    "    shapeRecs = reader.shapeRecords()\n",
    "\n",
    "with shapefile.Writer(pr_shp_filepath, shapeType=5) as writer:\n",
    "    writer.fields = [\n",
    "        ['pr_name', 'C', 80, 0],\n",
    "        ['pr_adcode', 'N', 6, 0],\n",
    "        ['short_name', 'C', 80, 0],\n",
    "        ['lon', 'N', 7, 3],\n",
    "        ['lat', 'N', 7, 3],\n",
    "    ]\n",
    "    for record in (\n",
    "        ct_df.iloc[:, :2]\n",
    "        .drop_duplicates('pr_name')\n",
    "        .reset_index(drop=True)\n",
    "        .to_dict(orient='records')\n",
    "    ):\n",
    "        polygons = []\n",
    "        for shapeRec in shapeRecs:\n",
    "            if shapeRec.record.pr_name == record['pr_name']:\n",
    "                polygons.append(sgeom.shape(shapeRec.shape))\n",
    "        polygon = unary_union(polygons)\n",
    "        polys = polygon_to_polys(polygon)\n",
    "\n",
    "        record['short_name'] = shorten_pr_name(record['pr_name'])\n",
    "        record['lon'], record['lat'] = polygon_center(polygon)\n",
    "\n",
    "        writer.record(**record)\n",
    "        writer.poly(polys)\n",
    "\n",
    "make_prj_file(pr_prj_filepath)\n",
    "province_df = shp_to_df(pr_shp_filepath)\n",
    "province_df.to_csv(pr_csv_filepath, index=False)\n",
    "province_df.head(10)"
   ]
  },
  {
   "cell_type": "markdown",
   "metadata": {},
   "source": [
    "省级多边形合成国界多边形。"
   ]
  },
  {
   "cell_type": "code",
   "execution_count": null,
   "metadata": {},
   "outputs": [],
   "source": [
    "with shapefile.Reader(pr_shp_filepath) as reader:\n",
    "    polygons = list(map(sgeom.shape, reader.shapes()))\n",
    "polygon = unary_union(polygons)\n",
    "polys = polygon_to_polys(polygon)\n",
    "\n",
    "make_prj_file(bd_prj_filepath)\n",
    "with shapefile.Writer(bd_shp_filepath, shapeType=5) as writer:\n",
    "    writer.fields = [['cn_name', 'C', 80, 0], ['cn_adcode', 'N', 6, 0]]\n",
    "    writer.record(country_name='中华人民共和国', country_adcode=100000)\n",
    "    writer.poly(polys)"
   ]
  }
 ],
 "metadata": {
  "kernelspec": {
   "display_name": "base",
   "language": "python",
   "name": "python3"
  },
  "language_info": {
   "codemirror_mode": {
    "name": "ipython",
    "version": 3
   },
   "file_extension": ".py",
   "mimetype": "text/x-python",
   "name": "python",
   "nbconvert_exporter": "python",
   "pygments_lexer": "ipython3",
   "version": "3.11.5"
  }
 },
 "nbformat": 4,
 "nbformat_minor": 2
}
