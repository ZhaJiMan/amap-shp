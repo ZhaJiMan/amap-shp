{
 "cells": [
  {
   "cell_type": "code",
   "execution_count": null,
   "metadata": {},
   "outputs": [],
   "source": [
    "import json\n",
    "from pathlib import Path\n",
    "\n",
    "import requests\n",
    "import shapefile\n",
    "import shapely.geometry as sgeom\n",
    "from shapely.ops import unary_union\n",
    "\n",
    "from amap import (\n",
    "    polyline_to_polys,\n",
    "    convert_gcj_to_wgs,\n",
    "    make_prj_file\n",
    ")"
   ]
  },
  {
   "cell_type": "code",
   "execution_count": null,
   "metadata": {},
   "outputs": [],
   "source": [
    "data_dirpath = Path('../data')\n",
    "if not data_dirpath.exists():\n",
    "    data_dirpath.mkdir()\n",
    "\n",
    "temp_filepath = data_dirpath / 'temp.shp'\n",
    "ct_shp_filepath = data_dirpath / 'cn_city.shp'\n",
    "ct_prj_filepath = data_dirpath / 'cn_city.prj'\n",
    "nl_shp_filepath = data_dirpath / 'nine_line.shp'\n",
    "nl_prj_filepath = data_dirpath / 'nine_line.prj'"
   ]
  },
  {
   "cell_type": "markdown",
   "metadata": {},
   "source": [
    "高德 web API 查询行政区域：[https://lbs.amap.com/api/webservice/guide/api/district](https://lbs.amap.com/api/webservice/guide/api/district)\n",
    "\n",
    "按入门指南注册并申请密钥（key），拼接 HTTP 请求的 URL，接收并解析返回的数据。"
   ]
  },
  {
   "cell_type": "code",
   "execution_count": null,
   "metadata": {},
   "outputs": [],
   "source": [
    "key = '1145141919810'"
   ]
  },
  {
   "cell_type": "markdown",
   "metadata": {},
   "source": [
    "特殊省名指这些省的子一级（即市级）就是它们自身。"
   ]
  },
  {
   "cell_type": "code",
   "execution_count": null,
   "metadata": {},
   "outputs": [],
   "source": [
    "pr_names = ['北京市', '天津市', '河北省', '山西省', '内蒙古自治区', '辽宁省', '吉林省', '黑龙江省', '上海市', '江苏省', '浙江省', '安徽省', '福建省', '江西省', '山东省', '河南省', '湖北省', '湖南省', '广东省', '广西壮族自治区', '海南省', '重庆市', '四川省', '贵州省', '云南省', '西藏自治区', '陕西省', '甘肃省', '青海省', '宁夏回族自治区', '新疆维吾尔自治区', '台湾省', '香港特别行政区', '澳门特别行政区']\n",
    "special_pr_names = ['北京市', '天津市', '上海市', '重庆市', '台湾省', '香港特别行政区', '澳门特别行政区']\n",
    "len(pr_names), len(special_pr_names)"
   ]
  },
  {
   "cell_type": "markdown",
   "metadata": {},
   "source": [
    "根据省名收集市名和 adcode。\n",
    "\n",
    "收集方法是在 URL 里加入 `subdistrict=1` 以返回子区划，认为子区划就算是市级。\n",
    "\n",
    "高德文档里的相关下载一栏可以下载到城市编码表，一开始的想法是根据表中 adcode 最后两位不为 00 来找出所有市。但这样会遗漏掉直辖县之类的区划，导致最后凑不出完整的中国地图。所以最后采用了上一段的方法。"
   ]
  },
  {
   "cell_type": "code",
   "execution_count": null,
   "metadata": {},
   "outputs": [],
   "source": [
    "ct_records = []\n",
    "for pr_name  in pr_names:\n",
    "    url = f'https://restapi.amap.com/v3/config/district?key={key}&keywords={pr_name}&subdistrict=1'\n",
    "    response = requests.get(url)\n",
    "    content = json.loads(response.content.decode())\n",
    "    pr_district = content['districts'][0]\n",
    "    pr_adcode = int(pr_district['adcode'])\n",
    "\n",
    "    if pr_name in special_pr_names:\n",
    "        ct_records.append({\n",
    "            'ct_name': pr_name,\n",
    "            'ct_adcode': pr_adcode,\n",
    "            'pr_name': pr_name,\n",
    "            'pr_adcode': pr_adcode\n",
    "        })\n",
    "        continue\n",
    "\n",
    "    for district_data in pr_district['districts']:\n",
    "        ct_district = district_data\n",
    "        ct_records.append({\n",
    "            'ct_name': ct_district['name'],\n",
    "            'ct_adcode': int(ct_district['adcode']),\n",
    "            'pr_name': pr_name,\n",
    "            'pr_adcode': pr_adcode\n",
    "        })\n",
    "\n",
    "ct_records.sort(key=lambda x: x['ct_adcode'])"
   ]
  },
  {
   "cell_type": "markdown",
   "metadata": {},
   "source": [
    "`polyline` 用字符串表示多边形坐标序列。不同多边形用 `|` 分隔，不同点用 `;` 分割，xy 用 `,` 分隔。多边形环的绕行方向都是顺时针，那么问题来了，怎么判断多边形的洞，怎么判断 `MultiPolygon` 呢？\n",
    "\n",
    "测试后大致发现，`polyline` 里不是用单独的多边形表示洞，而是将带洞的多边形切成两个独立的多边形，当这两个多边形拼在一起时，就会凑出一个洞。类似下图的效果。因此这里的策略是直接合并 `polyline` 里的所有多边形。\n",
    "\n",
    "关于多边形绕行方向：\n",
    "\n",
    "- shapely 里构造 `Polygon` 时方向无所谓，因为已经通过 `shell` 和 `holes` 参数明确指定了外环和内环。但经过运算后会变成外环顺时针内环逆时针。\n",
    "- Shapefile 要求外环顺时针，内环逆时针；GeoJSON 要求外环逆时针，内环顺时针，不过并不强制。\n",
    "- PyShp 的 `__geo_interface__` 接口能将 shapefile 转为 GeoJSON，但除了 2.2.0 版本外不会改变底层数据的绕行方向。\n",
    "- `sgeom.shape` 会用到 `__geo_interface__` 接口。\n",
    "- `mpath.Path` 要求内外环方向不一致即可。\n",
    "\n",
    "总结：用 shapely 和 PyShp 处理全为顺时针的 `polyline` 数据，最后能得到外环顺时针，内环逆时针的 shapefile 文件。后续用于 Matplotlib 时能区分出洞。"
   ]
  },
  {
   "cell_type": "code",
   "execution_count": null,
   "metadata": {},
   "outputs": [],
   "source": [
    "geom1 = sgeom.Polygon([(0, 0), (0, 3), (3, 3), (3, 2), (1, 2), (1, 1), (3, 1), (3, 0), (0, 0)])\n",
    "geom2 = sgeom.Polygon([(2, 1), (2, 2), (3, 2), (3, 1), (2, 1)])\n",
    "unary_union([geom1, geom2])"
   ]
  },
  {
   "cell_type": "markdown",
   "metadata": {},
   "source": [
    "获取区划坐标需要在 URL 中加入 `extensions=all`。\n",
    "\n",
    "只下载市级数据，后续根据市级数据制作省级和国界数据。"
   ]
  },
  {
   "cell_type": "code",
   "execution_count": null,
   "metadata": {},
   "outputs": [],
   "source": [
    "with shapefile.Writer(str(temp_filepath), shapeType=5) as writer:\n",
    "    writer.fields = [\n",
    "        ['ct_name', 'C', 80, 0],\n",
    "        ['ct_adcode', 'N', 6, 0],\n",
    "        ['pr_name', 'C', 80, 0],\n",
    "        ['pr_adcode', 'N', 6, 0]\n",
    "    ]\n",
    "    for record in ct_records:\n",
    "        url = f'https://restapi.amap.com/v3/config/district?key={key}&keywords={record[\"ct_adcode\"]}&subdistrict=0&extensions=all'\n",
    "        response = requests.get(url)\n",
    "        content = json.loads(response.content.decode())\n",
    "        polyline = content['districts'][0]['polyline']\n",
    "        polys = polyline_to_polys(polyline)\n",
    "        writer.record(**record)\n",
    "        writer.poly(polys)\n",
    "        print(record)\n",
    "\n",
    "convert_gcj_to_wgs(temp_filepath, ct_shp_filepath)\n",
    "make_prj_file(ct_prj_filepath)"
   ]
  },
  {
   "cell_type": "markdown",
   "metadata": {},
   "source": [
    "[https://datav.aliyun.com/portal/school/atlas/area_selector](https://datav.aliyun.com/portal/school/atlas/area_selector)\n",
    "\n",
    "全国的 GeoJSON 数据里含多边形表示的九段线，以此制作九段线的 shapefile 文件。注意 `writer.shape` 会自动将 GeoJSON 里逆时针的外环改为顺时针。"
   ]
  },
  {
   "cell_type": "code",
   "execution_count": null,
   "metadata": {},
   "outputs": [],
   "source": [
    "with shapefile.Writer(str(temp_filepath), shapeType=5) as writer:\n",
    "    url = 'https://geo.datav.aliyun.com/areas_v3/bound/100000_full.json'\n",
    "    response = requests.get(url)\n",
    "    content = json.loads(response.content.decode())\n",
    "    geometry = content['features'][-1]['geometry']\n",
    "    writer.fields = [['cn_adcode', 'C', 80, 0], ['cn_name', 'C', 80, 0]]\n",
    "    writer.record(cn_adcode='100000', cn_name='九段线')\n",
    "    writer.shape(geometry)\n",
    "\n",
    "convert_gcj_to_wgs(temp_filepath, nl_shp_filepath)\n",
    "make_prj_file(nl_prj_filepath)"
   ]
  },
  {
   "cell_type": "markdown",
   "metadata": {},
   "source": [
    "清理临时文件。"
   ]
  },
  {
   "cell_type": "code",
   "execution_count": null,
   "metadata": {},
   "outputs": [],
   "source": [
    "for filepath in data_dirpath.iterdir():\n",
    "    if filepath.stem == 'temp':\n",
    "        filepath.unlink()"
   ]
  }
 ],
 "metadata": {
  "kernelspec": {
   "display_name": "base",
   "language": "python",
   "name": "python3"
  },
  "language_info": {
   "codemirror_mode": {
    "name": "ipython",
    "version": 3
   },
   "file_extension": ".py",
   "mimetype": "text/x-python",
   "name": "python",
   "nbconvert_exporter": "python",
   "pygments_lexer": "ipython3",
   "version": "3.11.5"
  }
 },
 "nbformat": 4,
 "nbformat_minor": 2
}
