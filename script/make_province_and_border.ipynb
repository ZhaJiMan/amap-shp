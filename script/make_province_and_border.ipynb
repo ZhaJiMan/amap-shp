{
 "cells": [
  {
   "cell_type": "code",
   "execution_count": null,
   "metadata": {},
   "outputs": [],
   "source": [
    "from pathlib import Path\n",
    "\n",
    "import shapefile\n",
    "import shapely.geometry as sgeom\n",
    "from shapely.ops import unary_union\n",
    "import numpy as np\n",
    "\n",
    "from amap import (\n",
    "    records_to_df,\n",
    "    shorten_ct_name,\n",
    "    shorten_pr_name,\n",
    "    polygon_to_polys,\n",
    "    make_prj_file\n",
    ")"
   ]
  },
  {
   "cell_type": "markdown",
   "metadata": {},
   "source": [
    "实际上这里的 `cn_city.shp` 已经是用 mapshaper 简化后的版本了。再从市级数据制作省级和国级数据，能保证三个级别的边界相同。"
   ]
  },
  {
   "cell_type": "code",
   "execution_count": null,
   "metadata": {},
   "outputs": [],
   "source": [
    "data_dirpath = Path('../data')\n",
    "\n",
    "ct_shp_filepath = data_dirpath / 'cn_city.shp'\n",
    "ct_csv_filepath = data_dirpath / 'cn_city.csv'\n",
    "\n",
    "pr_shp_filepath = data_dirpath / 'cn_province.shp'\n",
    "pr_prj_filepath = data_dirpath / 'cn_province.prj'\n",
    "pr_csv_filepath = data_dirpath / 'cn_province.csv'\n",
    "\n",
    "bd_shp_filepath = data_dirpath / 'cn_border.shp'\n",
    "bd_prj_filepath = data_dirpath / 'cn_border.prj'"
   ]
  },
  {
   "cell_type": "markdown",
   "metadata": {},
   "source": [
    "制作市级数据的属性表，字段有：\n",
    "\n",
    "- `ct_name`\n",
    "- `ct_adcode`\n",
    "- `pr_name`\n",
    "- `pr_adcode`\n",
    "- `abbr_name`：`ct_name` 的缩写。\n",
    "- `lon`：代表点的经度。\n",
    "- `lat`：代表点的纬度。\n",
    "\n",
    "代表点仅供参考，后续可以手工修改。"
   ]
  },
  {
   "cell_type": "code",
   "execution_count": null,
   "metadata": {},
   "outputs": [],
   "source": [
    "df_ct = records_to_df(ct_shp_filepath)\n",
    "df_ct['short_name'] = list(map(shorten_ct_name, df_ct['ct_name']))\n",
    "\n",
    "with shapefile.Reader(str(ct_shp_filepath)) as reader:\n",
    "    polygons = list(map(sgeom.shape, reader.shapes()))\n",
    "\n",
    "lons, lats = [], []\n",
    "for polygon in polygons:\n",
    "    point = polygon.representative_point()\n",
    "    lons.append(point.x)\n",
    "    lats.append(point.y)\n",
    "df_ct['lon'] = np.round(lons, 1)\n",
    "df_ct['lat'] = np.round(lats, 1)\n",
    "\n",
    "df_ct.to_csv(str(ct_csv_filepath), index=False)\n",
    "df_ct.head(10)"
   ]
  },
  {
   "cell_type": "markdown",
   "metadata": {},
   "source": [
    "将同属一个省的市级多边形合并成省级多边形，从而制作省级数据。同时制作配套的属性表，字段有：\n",
    "\n",
    "- `pr_name`\n",
    "- `pr_adcode`\n",
    "- `abbr_name`：`pr_name` 的缩写。\n",
    "- `lon`：代表点的经度。\n",
    "- `lat`：代表点的纬度。"
   ]
  },
  {
   "cell_type": "code",
   "execution_count": null,
   "metadata": {},
   "outputs": [],
   "source": [
    "df_pr = (df_ct\n",
    "    [['pr_name', 'pr_adcode']]\n",
    "    .drop_duplicates('pr_name')\n",
    "    .reset_index(drop=True)\n",
    ")\n",
    "\n",
    "with shapefile.Reader(str(ct_shp_filepath)) as reader:\n",
    "    shapeRecs = reader.shapeRecords()\n",
    "\n",
    "lons, lats = [], []\n",
    "with shapefile.Writer(str(pr_shp_filepath), shapeType=5) as writer:\n",
    "    writer.fields = [['pr_name', 'C', 80, 0], ['pr_adcode', 'N', 6, 0]]\n",
    "    for record in df_pr.itertuples():\n",
    "        polygons = []\n",
    "        for shapeRec in shapeRecs:\n",
    "            if shapeRec.record.pr_name == record.pr_name:\n",
    "                polygons.append(sgeom.shape(shapeRec.shape))\n",
    "        polygon = unary_union(polygons)\n",
    "        polys = polygon_to_polys(polygon)\n",
    "        writer.record(**record._asdict())\n",
    "        writer.poly(polys)\n",
    "\n",
    "        point = polygon.representative_point()\n",
    "        lons.append(point.x)\n",
    "        lats.append(point.y)\n",
    "        print(record)\n",
    "\n",
    "make_prj_file(pr_prj_filepath)\n",
    "df_pr['short_name'] = list(map(shorten_pr_name, df_pr['pr_name']))\n",
    "df_pr['lon'] = np.round(lons, 1)\n",
    "df_pr['lat'] = np.round(lats, 1)\n",
    "df_pr.to_csv(str(pr_csv_filepath), index=False)\n",
    "df_pr.head(10)"
   ]
  },
  {
   "cell_type": "markdown",
   "metadata": {},
   "source": [
    "将省级多边形合并制作国界数据。"
   ]
  },
  {
   "cell_type": "code",
   "execution_count": null,
   "metadata": {},
   "outputs": [],
   "source": [
    "with shapefile.Reader(str(pr_shp_filepath)) as reader:\n",
    "    polygons = list(map(sgeom.shape, reader.shapes()))\n",
    "polygon = unary_union(polygons)\n",
    "polys = polygon_to_polys(polygon)\n",
    "\n",
    "make_prj_file(bd_prj_filepath)\n",
    "with shapefile.Writer(str(bd_shp_filepath), shapeType=5) as writer:\n",
    "    writer.fields = [['cn_name', 'C', 80, 0], ['cn_adcode', 'N', 6, 0]]\n",
    "    writer.record(cn_name='中华人民共和国', cn_adcode=100000)\n",
    "    writer.poly(polys)"
   ]
  }
 ],
 "metadata": {
  "kernelspec": {
   "display_name": "base",
   "language": "python",
   "name": "python3"
  },
  "language_info": {
   "codemirror_mode": {
    "name": "ipython",
    "version": 3
   },
   "file_extension": ".py",
   "mimetype": "text/x-python",
   "name": "python",
   "nbconvert_exporter": "python",
   "pygments_lexer": "ipython3",
   "version": "3.11.5"
  }
 },
 "nbformat": 4,
 "nbformat_minor": 2
}
